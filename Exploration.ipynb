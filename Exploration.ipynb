{
 "cells": [
  {
   "cell_type": "markdown",
   "id": "cadf503c",
   "metadata": {},
   "source": [
    "# Evaluate a crypto currency project"
   ]
  },
  {
   "cell_type": "markdown",
   "id": "688ccd7c",
   "metadata": {},
   "source": [
    "## Pip install and Imports"
   ]
  },
  {
   "cell_type": "code",
   "execution_count": 1,
   "id": "eb07258f",
   "metadata": {},
   "outputs": [
    {
     "name": "stdout",
     "output_type": "stream",
     "text": [
      "Requirement already satisfied: pycoingecko in c:\\users\\moussa.diakite1\\anaconda3\\lib\\site-packages (3.0.0)\n",
      "Requirement already satisfied: requests in c:\\users\\moussa.diakite1\\anaconda3\\lib\\site-packages (from pycoingecko) (2.25.1)\n",
      "Requirement already satisfied: idna<3,>=2.5 in c:\\users\\moussa.diakite1\\anaconda3\\lib\\site-packages (from requests->pycoingecko) (2.10)\n",
      "Requirement already satisfied: chardet<5,>=3.0.2 in c:\\users\\moussa.diakite1\\anaconda3\\lib\\site-packages (from requests->pycoingecko) (4.0.0)\n",
      "Requirement already satisfied: certifi>=2017.4.17 in c:\\users\\moussa.diakite1\\anaconda3\\lib\\site-packages (from requests->pycoingecko) (2022.9.14)\n",
      "Requirement already satisfied: urllib3<1.27,>=1.21.1 in c:\\users\\moussa.diakite1\\anaconda3\\lib\\site-packages (from requests->pycoingecko) (1.26.11)\n",
      "Requirement already satisfied: ratelimit in c:\\users\\moussa.diakite1\\anaconda3\\lib\\site-packages (2.2.1)\n",
      "Requirement already satisfied: tqdm in c:\\users\\moussa.diakite1\\anaconda3\\lib\\site-packages (4.64.1)\n",
      "Requirement already satisfied: colorama in c:\\users\\moussa.diakite1\\anaconda3\\lib\\site-packages (from tqdm) (0.4.5)\n"
     ]
    }
   ],
   "source": [
    "!pip install --trusted-host pypi.org --trusted-host pypi.python.org --trusted-host files.pythonhosted.org pycoingecko\n",
    "!pip install --trusted-host pypi.org --trusted-host pypi.python.org --trusted-host files.pythonhosted.org ratelimit\n",
    "!pip install --trusted-host pypi.org --trusted-host pypi.python.org --trusted-host files.pythonhosted.org tqdm"
   ]
  },
  {
   "cell_type": "code",
   "execution_count": 2,
   "id": "cae27213",
   "metadata": {},
   "outputs": [],
   "source": [
    "from pycoingecko import CoinGeckoAPI\n",
    "cg = CoinGeckoAPI()"
   ]
  },
  {
   "cell_type": "markdown",
   "id": "6cb201aa",
   "metadata": {},
   "source": [
    "## Get all the coins and their corresponding ids"
   ]
  },
  {
   "cell_type": "code",
   "execution_count": 3,
   "id": "5c88f234",
   "metadata": {
    "scrolled": true
   },
   "outputs": [
    {
     "name": "stdout",
     "output_type": "stream",
     "text": [
      "page = 1\n",
      "page = 2\n",
      "page = 3\n",
      "page = 4\n",
      "page = 5\n",
      "page = 6\n",
      "page = 7\n",
      "page = 8\n",
      "page = 9\n",
      "page = 10\n",
      "page = 11\n",
      "page = 12\n",
      "page = 13\n",
      "page = 14\n",
      "page = 15\n",
      "page = 16\n",
      "page = 17\n",
      "page = 18\n",
      "page = 19\n",
      "page = 20\n",
      "page = 21\n",
      "page = 22\n",
      "page = 23\n",
      "page = 24\n",
      "page = 25\n",
      "page = 26\n",
      "page = 27\n",
      "page = 28\n",
      "page = 29\n",
      "page = 30\n",
      "page = 31\n",
      "page = 32\n",
      "page = 33\n",
      "page = 34\n",
      "page = 35\n",
      "page = 36\n",
      "page = 37\n",
      "page = 38\n",
      "page = 39\n",
      "page = 40\n",
      "page = 41\n",
      "page = 42\n",
      "page = 43\n",
      "page = 44\n",
      "page = 45\n",
      "page = 46\n",
      "page = 47\n",
      "page = 48\n",
      "page = 49\n",
      "page = 50\n",
      "page = 51\n",
      "page = 52\n",
      "page = 53\n",
      "page = 54\n",
      "page = 55\n"
     ]
    }
   ],
   "source": [
    "MAX_MARKET_CAP = 100_000_000 # target only small market cap crypto currencies\n",
    "MIN_MARKET_CAP = 50_000\n",
    "MIN_VOLUME = 50_000\n",
    "USED_FIELDS = set([\"id\", \"symbol\", \"market_cap\"]) # to avoid having too much data\n",
    "MAX_API_CALLS = 10\n",
    "MAX_API_CALLS_PERIOD = 60 # 1 minute\n",
    "PRICE_CHANGE_PERCENTAGE_PERIODS = '7d,14d,30d,200d'\n",
    "PERCENTAGE_CHANGE = 100\n",
    "\n",
    "from ratelimit import limits, sleep_and_retry\n",
    "\n",
    "@sleep_and_retry\n",
    "@limits(calls=MAX_API_CALLS, period=MAX_API_CALLS_PERIOD)\n",
    "def get_coins_markets(*args, **kwargs) -> list:\n",
    "    return cg.get_coins_markets(*args, **kwargs)\n",
    "\n",
    "max_market_cap_reached = False\n",
    "map_id_to_symbol = {}\n",
    "all_coins_ids = []\n",
    "valid_markets = []\n",
    "page = 1\n",
    "\n",
    "while True:\n",
    "    print(f\"page = {page}\")\n",
    "    markets = get_coins_markets(vs_currency=\"usd\", per_page=250, page=page, order=\"market_cap_asc\", price_change_percentage=PRICE_CHANGE_PERCENTAGE_PERIODS)\n",
    "    if not markets:\n",
    "        break\n",
    "    #new_markets = [\n",
    "    #    market\n",
    "    #    for market in markets if market[\"market_cap\"] is not None and\n",
    "    #    MIN_MARKET_CAP <= market[\"market_cap\"] <= MAX_MARKET_CAP and (\n",
    "    #        market[\"price_change_percentage_7d_in_currency\"] is not None and market[\"price_change_percentage_7d_in_currency\"] > PERCENTAGE_CHANGE# or\n",
    "            #market[\"price_change_percentage_14d_in_currency\"] is not None and market[\"price_change_percentage_14d_in_currency\"] > PERCENTAGE_CHANGE or\n",
    "            #market[\"price_change_percentage_30d_in_currency\"] is not None and market[\"price_change_percentage_30d_in_currency\"] > PERCENTAGE_CHANGE or\n",
    "            #market[\"price_change_percentage_200d_in_currency\"] is not None and market[\"price_change_percentage_200d_in_currency\"] > PERCENTAGE_CHANGE\n",
    "    #    ) and market[\"total_volume\"] > MIN_VOLUME\n",
    "    #]\n",
    "    valid_markets += markets #new_markets\n",
    "    page += 1\n",
    "map_id_to_symbol = {market[\"id\"]: market[\"symbol\"] for market in valid_markets}\n",
    "all_coins_ids = list(map_id_to_symbol.keys())"
   ]
  },
  {
   "cell_type": "code",
   "execution_count": null,
   "id": "b3989a99",
   "metadata": {},
   "outputs": [
    {
     "name": "stderr",
     "output_type": "stream",
     "text": [
      " 32%|███▏      | 3708/11743 [18:53:22<1:09:15,  1.93it/s]       "
     ]
    },
    {
     "name": "stdout",
     "output_type": "stream",
     "text": [
      "{'error': 'Could not find coin with the given id'}\n"
     ]
    },
    {
     "name": "stderr",
     "output_type": "stream",
     "text": [
      " 35%|███▌      | 4158/11743 [19:23:44<52:24,  2.41it/s]   "
     ]
    },
    {
     "name": "stdout",
     "output_type": "stream",
     "text": [
      "{'error': 'Could not find coin with the given id'}\n"
     ]
    },
    {
     "name": "stderr",
     "output_type": "stream",
     "text": [
      " 37%|███▋      | 4297/11743 [19:32:30<39:23,  3.15it/s]   "
     ]
    }
   ],
   "source": [
    "from tqdm import tqdm\n",
    "\n",
    "@sleep_and_retry\n",
    "@limits(calls=MAX_API_CALLS, period=MAX_API_CALLS_PERIOD)\n",
    "def get_coin_by_id(*args, **kwargs) -> list:\n",
    "    return cg.get_coin_by_id(*args, **kwargs)\n",
    "\n",
    "#coins_data = []\n",
    "for i in tqdm(range(1532, len(valid_markets))):\n",
    "    market = valid_markets[i]\n",
    "    try:\n",
    "        coins_data.append(\n",
    "            cg.get_coin_by_id(market[\"id\"], localization=False, market_data=False)\n",
    "        )\n",
    "    except ValueError as ve:\n",
    "        print(str(ve))\n",
    "        if str(ve) != \"{'error': 'Could not find coin with the given id'}\":\n",
    "            print(str(ve))\n",
    "            raise ve"
   ]
  },
  {
   "cell_type": "code",
   "execution_count": null,
   "id": "ce33354a",
   "metadata": {},
   "outputs": [],
   "source": [
    "import pandas as pd\n",
    "\n",
    "df = pd.DataFrame.from_records(coins_data)"
   ]
  },
  {
   "cell_type": "code",
   "execution_count": null,
   "id": "6dbc3342",
   "metadata": {},
   "outputs": [],
   "source": [
    "df.info()"
   ]
  },
  {
   "cell_type": "code",
   "execution_count": null,
   "id": "3567cfac",
   "metadata": {},
   "outputs": [],
   "source": []
  },
  {
   "cell_type": "code",
   "execution_count": null,
   "id": "a83fde83",
   "metadata": {},
   "outputs": [],
   "source": []
  },
  {
   "cell_type": "code",
   "execution_count": null,
   "id": "1a065af8",
   "metadata": {},
   "outputs": [],
   "source": []
  },
  {
   "cell_type": "code",
   "execution_count": null,
   "id": "9d907642",
   "metadata": {},
   "outputs": [],
   "source": []
  },
  {
   "cell_type": "code",
   "execution_count": null,
   "id": "23acf17f",
   "metadata": {},
   "outputs": [],
   "source": []
  },
  {
   "cell_type": "code",
   "execution_count": null,
   "id": "8db16a2f",
   "metadata": {},
   "outputs": [],
   "source": []
  },
  {
   "cell_type": "code",
   "execution_count": null,
   "id": "6915364e",
   "metadata": {},
   "outputs": [],
   "source": []
  },
  {
   "cell_type": "code",
   "execution_count": null,
   "id": "daaac218",
   "metadata": {},
   "outputs": [],
   "source": []
  },
  {
   "cell_type": "code",
   "execution_count": null,
   "id": "326be1cc",
   "metadata": {},
   "outputs": [],
   "source": []
  },
  {
   "cell_type": "code",
   "execution_count": null,
   "id": "a48ce153",
   "metadata": {},
   "outputs": [],
   "source": []
  },
  {
   "cell_type": "code",
   "execution_count": null,
   "id": "0b8d7d87",
   "metadata": {},
   "outputs": [],
   "source": []
  },
  {
   "cell_type": "code",
   "execution_count": null,
   "id": "b83e94a7",
   "metadata": {},
   "outputs": [],
   "source": []
  },
  {
   "cell_type": "code",
   "execution_count": null,
   "id": "51ea3ffe",
   "metadata": {},
   "outputs": [],
   "source": []
  },
  {
   "cell_type": "code",
   "execution_count": null,
   "id": "36231be7",
   "metadata": {},
   "outputs": [],
   "source": []
  },
  {
   "cell_type": "code",
   "execution_count": null,
   "id": "2c89943d",
   "metadata": {},
   "outputs": [],
   "source": [
    "import requests\n",
    "import json\n",
    "\n",
    "#its bad practice to place your bearer token directly into the script (this is just done for illustration purposes)\n",
    "BEARER_TOKEN = \"AAAAAAAAAAAAAAAAAAAAAKSKigEAAAAAv%2BSQBzUZexoYCs3xep2MNCzeAbo%3DMHoffAoGn730RtKwg8XECvKKV0Sjid0a6KWtKuwqUqVit0jdAs\"\n",
    "\n",
    "#define search twitter function\n",
    "def search_twitter(query: str, tweet_fields: str, end_time: str, bearer_token = BEARER_TOKEN): \n",
    "    headers = {\"Authorization\": \"Bearer {}\".format(bearer_token)}\n",
    "    print(headers)\n",
    "\n",
    "    url = \"https://api.twitter.com/2/tweets/search/recent?query={}&tweet.fields={}&end_time={}\".format(\n",
    "        query, tweet_fields, end_time\n",
    "    )\n",
    "    print(url)\n",
    "    response = requests.request(\"GET\", url, headers=headers, verify=False)\n",
    "\n",
    "    print(response.status_code)\n",
    "\n",
    "    if response.status_code != 200:\n",
    "        raise Exception(response.status_code, response.text)\n",
    "    return response.json()"
   ]
  },
  {
   "cell_type": "code",
   "execution_count": null,
   "id": "5deb2f85",
   "metadata": {},
   "outputs": [],
   "source": [
    "from datetime import datetime, timedelta\n",
    "now = datetime.now()\n",
    "\n",
    "for market in valid_markets:\n",
    "    coin_id = market[\"id\"]\n",
    "    print(f\"coin_id = {coin_id}\")\n",
    "    coin_symbol = market[\"symbol\"]\n",
    "    print(f\"coin_symbol = {coin_symbol}\")\n",
    "    end_time = now - timedelta(days=7)\n",
    "    query=f\"\\${coin_symbol}\"\n",
    "    response = search_twitter(query=f\"\\${coin_symbol}\", tweet_fields=\"text,author_id,created_at\", end_time=end_time.isoformat()[:21] + \"Z\", bearer_token=BEARER_TOKEN)\n",
    "    print(response)\n",
    "    break"
   ]
  },
  {
   "cell_type": "code",
   "execution_count": null,
   "id": "fa3ddc10",
   "metadata": {},
   "outputs": [],
   "source": [
    "def get_min_days_percentage_change(market: dict) -> int:\n",
    "    periods = [7, 14, 30, 200]\n",
    "    last = None\n",
    "    for period in periods:\n",
    "        if market[f\"price_change_percentage_{period}d_in_currency\"] is not None:\n",
    "            last = period\n",
    "    return last\n",
    "\n",
    "enhanced_valid_markets = [\n",
    "    market | {\"min_days_percentage_change\": get_min_days_percentage_change(market)}\n",
    "    for market in valid_markets\n",
    "]"
   ]
  }
 ],
 "metadata": {
  "kernelspec": {
   "display_name": "Python 3 (ipykernel)",
   "language": "python",
   "name": "python3"
  },
  "language_info": {
   "codemirror_mode": {
    "name": "ipython",
    "version": 3
   },
   "file_extension": ".py",
   "mimetype": "text/x-python",
   "name": "python",
   "nbconvert_exporter": "python",
   "pygments_lexer": "ipython3",
   "version": "3.9.13"
  }
 },
 "nbformat": 4,
 "nbformat_minor": 5
}
